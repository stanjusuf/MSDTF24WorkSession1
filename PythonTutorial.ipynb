{
  "cells": [
    {
      "cell_type": "markdown",
      "metadata": {
        "id": "aMGsEUWF64GI"
      },
      "source": [
        "#**Importing Libraries**\n"
      ]
    },
    {
      "cell_type": "markdown",
      "metadata": {
        "id": "ELnGuXQeFUCu"
      },
      "source": [
        "\n",
        "**Import the json, pandas, numpy and spotipy libraries**"
      ]
    },
    {
      "cell_type": "code",
      "execution_count": 33,
      "metadata": {
        "id": "aL4rUcafymaN"
      },
      "outputs": [],
      "source": [
        "import json\n",
        "import pandas as pd\n",
        "import numpy as np\n",
        "import spotipy"
      ]
    },
    {
      "cell_type": "markdown",
      "metadata": {
        "id": "vCVcwAbDHu4l"
      },
      "source": [
        "#**Variables, numbers, math and strings**"
      ]
    },
    {
      "cell_type": "markdown",
      "metadata": {
        "id": "jRqIj5o-H2_I"
      },
      "source": [
        "\n",
        "\n",
        "\n",
        "\n",
        "```\n",
        "flourBrandA = \"king arthur all purpose flour\"\n",
        "flourBrandB = \"kroger all purpose flour\"\n",
        "flourAmountNeeded = 0.75\n",
        "\n",
        "print(flourBrandA, flourBrandB)\n",
        "print(\"flour left:\")\n",
        "print(1-flourAmountNeeded)\n",
        "\n",
        "```\n"
      ]
    },
    {
      "cell_type": "markdown",
      "metadata": {
        "id": "FqGGojR-HL4m"
      },
      "source": [
        "What is the output of the code above? "
      ]
    },
    {
      "cell_type": "markdown",
      "metadata": {
        "id": "QUzVxtvWHPjZ"
      },
      "source": [
        "Answer:\n",
        "\n",
        "```\n",
        "king arthur all purpose flour kroger all purpose flour\n",
        "flour left:\n",
        "0.25\n",
        "```"
      ]
    },
    {
      "cell_type": "markdown",
      "metadata": {
        "id": "Fm915uqsLqPO"
      },
      "source": [
        "#**Functions**\n",
        "\n"
      ]
    },
    {
      "cell_type": "markdown",
      "metadata": {
        "id": "0tzQZ7APFuog"
      },
      "source": [
        "What will be the output of the cell below?"
      ]
    },
    {
      "cell_type": "code",
      "execution_count": 34,
      "metadata": {
        "id": "k3qWFNMSQIIJ"
      },
      "outputs": [
        {
          "name": "stdout",
          "output_type": "stream",
          "text": [
            "bananasrunsfast\n",
            "That is very cool\n"
          ]
        }
      ],
      "source": [
        "def madlibs(adj, noun, verb):\n",
        "  print(noun+verb+adj)\n",
        "  print(\"That is very cool\")\n",
        "\n",
        "madlibs(\"fast\",\"bananas\", \"runs\")\n"
      ]
    },
    {
      "cell_type": "markdown",
      "metadata": {
        "id": "eQxvo8WDF9cp"
      },
      "source": [
        "Answer:\n",
        "```\n",
        "bananasrunsfast\n",
        "That is very cool\n",
        "```"
      ]
    },
    {
      "cell_type": "markdown",
      "metadata": {
        "id": "ZafX5NtdGjJy"
      },
      "source": [
        "\n",
        "\n",
        "```\n",
        "def subtraction(number1, number2)\n",
        "  return number1-number2\n",
        "\n",
        "x = subtraction(2, 4)\n",
        "```\n",
        "\n",
        "What is the value of x?\n",
        "\n",
        "\n"
      ]
    },
    {
      "cell_type": "markdown",
      "metadata": {
        "id": "E1CIPvj2G7pR"
      },
      "source": [
        "Answer:\n",
        "```\n",
        "The value of x is -2.\n",
        "```"
      ]
    },
    {
      "cell_type": "markdown",
      "metadata": {
        "id": "mnAVmpYoJXm2"
      },
      "source": [
        "#**Lists, Dictionaries, Sets, Indexing**\n",
        "\n",
        "\n",
        "What is the value of aList[3]?"
      ]
    },
    {
      "cell_type": "code",
      "execution_count": 35,
      "metadata": {
        "id": "7FYPE2YCIWUi"
      },
      "outputs": [],
      "source": [
        "aList = [\"mdst\"]\n",
        "aList.append(\"sundays\")\n",
        "aList.append(\"mondays\")\n",
        "aList.append(\"tuesdays\")\n",
        "aList.append(\"wednesdays\")\n",
        "aList[3] = \"wednesdays\""
      ]
    },
    {
      "cell_type": "markdown",
      "metadata": {
        "id": "ZDmXxPPJIXVK"
      },
      "source": [
        "Answer:\n",
        "```\n",
        "The value of aList[3] is \"wednesdays\".\n",
        "```"
      ]
    },
    {
      "cell_type": "markdown",
      "metadata": {
        "id": "JqoBQjw9L6hv"
      },
      "source": [
        "#**References**"
      ]
    },
    {
      "cell_type": "markdown",
      "metadata": {
        "id": "QoUJMdPqKIv9"
      },
      "source": [
        "What do you think the output is in the code below?\n",
        "\n",
        "\n",
        "```\n",
        "x=[3,4]\n",
        "y=[1,2]\n",
        "x=y\n",
        "y[1] = 5\n",
        "print(x)\n",
        "```\n",
        "\n"
      ]
    },
    {
      "cell_type": "markdown",
      "metadata": {
        "id": "BKTykb0HKnmY"
      },
      "source": [
        "Answer:\n",
        "```\n",
        "[1, 5]\n",
        "```\n",
        "**Once you have your answer** go to pythontutor.com, paste the code, and see how references influence the output"
      ]
    },
    {
      "cell_type": "markdown",
      "metadata": {
        "id": "7bt6A0e-5k6L"
      },
      "source": [
        "# **Keywords**\n",
        "What happens if you try to create a variable with the name of a keyword?"
      ]
    },
    {
      "cell_type": "code",
      "execution_count": 36,
      "metadata": {
        "id": "-zM0g8Md8F9j"
      },
      "outputs": [],
      "source": [
        "# It will cause a syntax error."
      ]
    },
    {
      "cell_type": "markdown",
      "metadata": {
        "id": "REHTyAbD5YmV"
      },
      "source": [
        "# **If else if else**\n",
        "\n",
        "You are given a variable *age* with some unknown value. Use if statements to print if a person can drive given some unknown age (aka use the age variable in your code)\n"
      ]
    },
    {
      "cell_type": "code",
      "execution_count": 37,
      "metadata": {
        "id": "xSmw1V_s8lyU"
      },
      "outputs": [
        {
          "name": "stdout",
          "output_type": "stream",
          "text": [
            "You cannot drive.\n"
          ]
        }
      ],
      "source": [
        "age = int(input(\"Enter your age: \"))\n",
        "if age > 18:\n",
        "    print(\"You cannot drive.\")\n",
        "else:\n",
        "    print(\"You can drive.\")"
      ]
    },
    {
      "cell_type": "markdown",
      "metadata": {
        "id": "LzuQZTVlMLKU"
      },
      "source": [
        "#**Loops**"
      ]
    },
    {
      "cell_type": "markdown",
      "metadata": {
        "id": "GfRW3k093Lyh"
      },
      "source": [
        "Write a for loop that prints a statement \"____ is a type of fruit\" where ____ is an element in the list defined below. Code a solution 3 lines or less\n",
        "\n",
        "\n",
        "\n",
        "```\n",
        "fruits = [\"kiwis\", \"star fruit\", \"raspberries\", \"watermelon\", \"pear\", \"apples\", \"oranges\"]\n",
        "```\n",
        "\n"
      ]
    },
    {
      "cell_type": "markdown",
      "metadata": {
        "id": "1c_emQJq4hSZ"
      },
      "source": [
        "Write a while loop that increments variable i with an initial value of 9 by 1 each iteration of the loop. Have the loop break when the value of variable i reaches 16. Print a statement that alerts you that i has reached 16. hint: in the while loop, should the print statment be used before the keyword \"break\" or after? What happens when you print before vs after?"
      ]
    },
    {
      "cell_type": "code",
      "execution_count": 38,
      "metadata": {
        "id": "MNYSZEeIQGWB"
      },
      "outputs": [
        {
          "name": "stdout",
          "output_type": "stream",
          "text": [
            "kiwis is a type of fruit\n",
            "star fruit is a type of fruit\n",
            "raspberries is a type of fruit\n",
            "watermelon is a type of fruit\n",
            "pear is a type of fruit\n",
            "apples is a type of fruit\n",
            "oranges is a type of fruit\n"
          ]
        }
      ],
      "source": [
        "fruits = [\"kiwis\", \"star fruit\", \"raspberries\", \"watermelon\", \"pear\", \"apples\", \"oranges\"]\n",
        "for fruit in fruits:\n",
        "    print(fruit + \" is a type of fruit\")"
      ]
    },
    {
      "cell_type": "markdown",
      "metadata": {
        "id": "wKJq-0ixM0t3"
      },
      "source": [
        "#**Using Libaries and reading documentation practice**"
      ]
    },
    {
      "cell_type": "markdown",
      "metadata": {
        "id": "VBqXHun09DjF"
      },
      "source": [
        "Look up functions in the json library that you can use to read and write to a .json file. What arguments are required for the functions? Are there optional arguments?"
      ]
    },
    {
      "cell_type": "markdown",
      "metadata": {
        "id": "P8vi_q8c9VIP"
      },
      "source": [
        "Your solution:\n",
        "\n",
        "To read and write JSON files in Python using the `json` library, you can utilize several key functions. To read a JSON file, the `json.load()` function is used, which takes a file object containing a JSON document and converts it into a Python object, typically a dictionary. Optional arguments for this function include custom JSON decoder classes and functions for parsing floats, integers, and constants. Alternatively, `json.loads()` can be used to parse a JSON formatted string directly into a Python object. For writing JSON data to a file, the `json.dump()` function is employed, which serializes a Python object and writes it to a file as a JSON formatted stream. This function also offers optional arguments such as skipping non-basic type keys, ensuring ASCII encoding, and pretty-printing the JSON with indentation. Similarly, `json.dumps()` serializes a Python object to a JSON formatted string, allowing for easy manipulation and storage of JSON data within your code. These functions are essential for handling JSON data efficiently in Python, especially within Jupyter notebooks, where data manipulation and analysis are frequently performed."
      ]
    },
    {
      "cell_type": "markdown",
      "metadata": {
        "id": "wfKile7wMASA"
      },
      "source": [
        "#**Reading and writing to files**\n"
      ]
    },
    {
      "cell_type": "markdown",
      "metadata": {
        "id": "0baa_rdtsJ2l"
      },
      "source": [
        "Download the file workSessionOne.json from github.com/and read it into a pandas dataframe named dfDemo"
      ]
    },
    {
      "cell_type": "code",
      "execution_count": 39,
      "metadata": {
        "id": "IPV1hC66QEvv"
      },
      "outputs": [
        {
          "name": "stdout",
          "output_type": "stream",
          "text": [
            "            endTime      artistName        trackName  msPlayed\n",
            "0  2023-10-11 23:04  Britney Spears            Toxic    188733\n",
            "1  2023-10-11 23:08       Quin XCII  Stay Next to Me    204973\n",
            "2  2023-10-11 23:09     Post Malone        Sunflower     39241\n"
          ]
        }
      ],
      "source": [
        "# Read the JSON file into a DataFrame\n",
        "dfDemo = pd.read_json('workSessionOne.json')\n",
        "\n",
        "# Display the DataFrame\n",
        "print(dfDemo)"
      ]
    },
    {
      "cell_type": "markdown",
      "metadata": {
        "id": "Tvp7Xk0nOqlO"
      },
      "source": [
        "#**Commenting**\n",
        "\n",
        "Sometimes you want to write things for yourself or other people reading your code, such as explainations, or reminders to continue writing code for a dunction\n",
        "\n",
        "You can leave a note for youself in two ways:\n",
        "\n",
        "- #: used for when the note is short (less than 80 characters)\n",
        "- \"\"\"some note\"\"\" or three double quotes: used for when the note will be multiple lines long\n",
        "**Write one note using # and another using the triple quotes**\n",
        "\n",
        "(if you run the cell with just the note, the cell should not have any output)"
      ]
    },
    {
      "cell_type": "code",
      "execution_count": 40,
      "metadata": {
        "id": "hpm_J5aJQDkN"
      },
      "outputs": [
        {
          "data": {
            "text/plain": [
              "'\\nThis is a longer note\\n'"
            ]
          },
          "execution_count": 40,
          "metadata": {},
          "output_type": "execute_result"
        }
      ],
      "source": [
        "# This is a short comment.\n",
        "\"\"\"\n",
        "This is a longer note\n",
        "\"\"\""
      ]
    },
    {
      "cell_type": "markdown",
      "metadata": {
        "id": "s_hp_TqY7K1U"
      },
      "source": [
        "# **Debug Exercise**"
      ]
    },
    {
      "cell_type": "markdown",
      "metadata": {
        "id": "GJSWwpI3NDqP"
      },
      "source": [
        "Resources you can go back to:\n",
        "- pythontutor.com\n",
        "- w3schools.com/python/"
      ]
    }
  ],
  "metadata": {
    "colab": {
      "provenance": []
    },
    "kernelspec": {
      "display_name": "Python 3",
      "name": "python3"
    },
    "language_info": {
      "codemirror_mode": {
        "name": "ipython",
        "version": 3
      },
      "file_extension": ".py",
      "mimetype": "text/x-python",
      "name": "python",
      "nbconvert_exporter": "python",
      "pygments_lexer": "ipython3",
      "version": "3.12.4"
    }
  },
  "nbformat": 4,
  "nbformat_minor": 0
}
